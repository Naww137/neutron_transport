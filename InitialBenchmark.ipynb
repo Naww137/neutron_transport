{
 "cells": [
  {
   "cell_type": "code",
   "execution_count": 10,
   "metadata": {},
   "outputs": [],
   "source": [
    "#%%\n",
    "import numpy as np\n",
    "import numpy as np\n",
    "import pandas as pd\n",
    "from matplotlib.pyplot import *\n",
    "import numba as nb\n",
    "import sys\n",
    "import os\n",
    "\n",
    "sys.path.insert(0, os.path.realpath('./transport/'))\n",
    "\n",
    "from transport import tallies\n",
    "from transport import material_definitions\n",
    "from transport import functions_for_transport\n",
    "\n",
    "from transport import functions_for_scattering_theory as xs\n"
   ]
  },
  {
   "cell_type": "code",
   "execution_count": 11,
   "metadata": {},
   "outputs": [],
   "source": [
    "%matplotlib widget"
   ]
  },
  {
   "attachments": {},
   "cell_type": "markdown",
   "metadata": {},
   "source": [
    "### Match Benchmark\n",
    "Plot and print out values\n",
    "\n",
    "\n",
    "Incorrect statement:\n",
    "\"Since the value of ν is 0 for the capture isotope, the total fission cross section is given only by the fission isotope.\""
   ]
  },
  {
   "cell_type": "code",
   "execution_count": 15,
   "metadata": {},
   "outputs": [],
   "source": [
    "resonance_ladder_pu9 = pd.DataFrame({'E'    :   [2.956242e-1],\n",
    "                                'Gn'    :   [7.947046e-5],\n",
    "                                'Gg'    :   [3.982423e-2],\n",
    "                                'Gf'    :   [5.619673e-2]})\n",
    "\n",
    "pair_constants_pu9 = {\n",
    "'ac':9.41e-4,             # 1e-12cm\n",
    "'p0':0.002196807122623 * 1/2 ,   # 1 / 1e-12cm - sqrt(eV)\n",
    "'gj':3/4,\n",
    "}\n",
    "\n",
    "resonance_ladder_u8 = pd.DataFrame({'E'    :    [6.674280e0],\n",
    "                                    'Gn'    :   [1.492300e-3],\n",
    "                                    'Gg'    :   [2.271100e-2],\n",
    "                                    'Gf'    :   [9.880000e-9]})\n",
    "\n",
    "pair_constants_u8 = {\n",
    "'ac':9.48e-4,             # 1e-12cm\n",
    "'p0':0.002196807122623 * 1/2 ,   # 1 / 1e-12cm - sqrt(eV)\n",
    "'gj':1,\n",
    "}\n",
    "\n",
    "Npu9 = 1\n",
    "Nu8 = 0.124954\n",
    "Nscat = 0.008340505\n",
    "\n",
    "pu9 = material_definitions.isotope(pair_constants_pu9, resonance_ladder_pu9, Npu9, 2.88)\n",
    "u8 = material_definitions.isotope(pair_constants_u8, resonance_ladder_u8, Nu8, 0)\n",
    "\n",
    "mat = material_definitions.material([pu9,u8], constant_scattering=20*Nscat)\n",
    "\n"
   ]
  },
  {
   "cell_type": "code",
   "execution_count": 16,
   "metadata": {},
   "outputs": [
    {
     "name": "stdout",
     "output_type": "stream",
     "text": [
      "fission:\n",
      " [5.65557218e+04 1.91222922e+03 1.27783998e+04 1.57507609e-01\n",
      " 1.61363598e-04 8.96724687e-18]\n",
      "scattering:\n",
      " [6.30411682e-01 6.62484244e-01 1.82397786e+01 7.41464369e+02\n",
      " 1.66859524e-01 1.66822639e-01]\n",
      "total:\n",
      " [9.66652855e+04 3.26896822e+03 2.18523405e+04 1.20233909e+04\n",
      " 1.67184247e-01 1.66822639e-01]\n"
     ]
    }
   ],
   "source": [
    "\n",
    "benchmark_e = np.array([0.00001, 0.01000, 0.29562, 6.67425, 100.000, 2.0e7])\n",
    "# benchmark_e = np.array([6.67425])\n",
    "# energy = np.logspace(-5,7, 1000)\n",
    "energy = benchmark_e\n",
    "\n",
    "\n",
    "pu9_Sig_t, pu9_Sig_f, pu9_Sig_g, pu9_Sig_s = pu9.get_macro_cross_sections(energy)\n",
    "u8_Sig_t, u8_Sig_f, u8_Sig_g, u8_Sig_s = u8.get_macro_cross_sections(energy)\n",
    "\n",
    "m_Sig_t, m_Sig_f, m_Sig_g, m_Sig_s = mat.get_macro_cross_sections(energy)\n",
    "\n",
    "\n",
    "if np.array_equal(energy,benchmark_e):\n",
    "    print(f'fission:\\n {m_Sig_f}')\n",
    "    print(f'scattering:\\n {m_Sig_s}')\n",
    "    print(f'total:\\n {m_Sig_t}')\n",
    "else:\n",
    "    figure()\n",
    "    plot(energy, m_Sig_f, label='fission')\n",
    "    # plot(energy, mat_gam, label='gamma')\n",
    "    plot(energy, m_Sig_s, label='scattering')\n",
    "    plot(energy, m_Sig_t, label='total')\n",
    "\n",
    "    plot(energy, u8_Sig_t, label='U8 tot')\n",
    "\n",
    "    xscale('log'); yscale('log')\n",
    "    legend()"
   ]
  },
  {
   "cell_type": "code",
   "execution_count": 5,
   "metadata": {},
   "outputs": [
    {
     "name": "stdout",
     "output_type": "stream",
     "text": [
      "Particle Histories: 150.0\n",
      "Energy Bins: 200\n"
     ]
    }
   ],
   "source": [
    "#### problem 4\n",
    "N = 1.5e2\n",
    "G=5\n",
    "iE = 200\n",
    "print(f'Particle Histories: {N}')\n",
    "print(f'Energy Bins: {iE}')\n",
    "\n",
    "Emin = 1e-5\n",
    "Emax = 2e7 \n",
    "iEbins = 200\n",
    "tally = tallies.tallies(Emin, Emax, iEbins)\n",
    "\n",
    "# option to set seed\n",
    "rng = np.random.default_rng()\n"
   ]
  },
  {
   "cell_type": "code",
   "execution_count": 6,
   "metadata": {},
   "outputs": [],
   "source": [
    "#### Could try to run as a vector - later when I want to speed this up\n",
    "# E0 = rng.uniform(low=tally.Emin, high=tally.Emax, size=(1,2))\n",
    "# E0 < np.full_like(E0, tally.Emin)\n",
    "# E_new = Eigen_function_0D_CE(E0, tally, mat, rng)\n"
   ]
  },
  {
   "attachments": {},
   "cell_type": "markdown",
   "metadata": {},
   "source": [
    "#### Run transport"
   ]
  },
  {
   "cell_type": "code",
   "execution_count": 7,
   "metadata": {},
   "outputs": [
    {
     "name": "stdout",
     "output_type": "stream",
     "text": [
      "1.548 0.0375588427226754\n"
     ]
    }
   ],
   "source": [
    "for g in range(int(G)):\n",
    "\n",
    "    tally.reset_generation_tally()\n",
    "    \n",
    "    for iN in range(int(N)):\n",
    "        #random fission energy\n",
    "        E_start = rng.uniform(low=tally.Emin, high=tally.Emax) \n",
    "        # transport\n",
    "        E_new = functions_for_transport.Eigen_function_0D_CE(E_start, tally, mat, rng)\n",
    "    \n",
    "    # save generation tally\n",
    "    tally.save_generation_tally(N)\n",
    "    \n",
    "   \n",
    "final_k_estimate, final_estimator_variance, collision_based_scalar_flux = tally.final_analysis() \n",
    "\n",
    "print(final_k_estimate, final_estimator_variance)\n"
   ]
  },
  {
   "cell_type": "code",
   "execution_count": 8,
   "metadata": {},
   "outputs": [
    {
     "data": {
      "application/vnd.jupyter.widget-view+json": {
       "model_id": "6c08c61a8cb94e1c986dc7fdb8a37161",
       "version_major": 2,
       "version_minor": 0
      },
      "image/png": "[encoded data removed]",
      "text/html": [
       "\n",
       "            <div style=\"display: inline-block;\">\n",
       "                <div class=\"jupyter-widgets widget-label\" style=\"text-align: center;\">\n",
       "                    Figure\n",
       "                </div>\n",
       "                <img src='data:image/png;base64,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' width=640.0/>\n",
       "            </div>\n",
       "        "
      ],
      "text/plain": [
       "Canvas(toolbar=Toolbar(toolitems=[('Home', 'Reset original view', 'home', 'home'), ('Back', 'Back to previous …"
      ]
     },
     "metadata": {},
     "output_type": "display_data"
    }
   ],
   "source": [
    "\n",
    "# %%\n",
    "figure()\n",
    "errorbar(tally.Ebins, collision_based_scalar_flux[0], yerr=np.sqrt(collision_based_scalar_flux[1]), \n",
    "                                                            fmt='.', color='k', ms=3, ecolor='r', capsize=2)\n",
    "\n",
    "xscale('log')\n",
    "yscale('log')\n"
   ]
  },
  {
   "cell_type": "code",
   "execution_count": 9,
   "metadata": {},
   "outputs": [
    {
     "data": {
      "text/plain": [
       "1.5933333333333333"
      ]
     },
     "execution_count": 9,
     "metadata": {},
     "output_type": "execute_result"
    }
   ],
   "source": [
    "tally.first_moment/N"
   ]
  },
  {
   "cell_type": "code",
   "execution_count": null,
   "metadata": {},
   "outputs": [],
   "source": []
  },
  {
   "cell_type": "code",
   "execution_count": null,
   "metadata": {},
   "outputs": [],
   "source": []
  },
  {
   "cell_type": "code",
   "execution_count": null,
   "metadata": {},
   "outputs": [],
   "source": []
  }
 ],
 "metadata": {
  "kernelspec": {
   "display_name": "base",
   "language": "python",
   "name": "python3"
  },
  "language_info": {
   "codemirror_mode": {
    "name": "ipython",
    "version": 3
   },
   "file_extension": ".py",
   "mimetype": "text/x-python",
   "name": "python",
   "nbconvert_exporter": "python",
   "pygments_lexer": "ipython3",
   "version": "3.10.9"
  },
  "orig_nbformat": 4,
  "vscode": {
   "interpreter": {
    "hash": "047c744d43408600348b3016f39faaa99d5e305481fe389db058edacf37a0a5c"
   }
  }
 },
 "nbformat": 4,
 "nbformat_minor": 2
}
